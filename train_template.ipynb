{
  "nbformat": 4,
  "nbformat_minor": 0,
  "metadata": {
    "colab": {
      "provenance": [],
      "authorship_tag": "ABX9TyPab1rlM2Xs0s0p9wNF5jyD",
      "include_colab_link": true
    },
    "kernelspec": {
      "name": "python3",
      "display_name": "Python 3"
    },
    "language_info": {
      "name": "python"
    }
  },
  "cells": [
    {
      "cell_type": "markdown",
      "metadata": {
        "id": "view-in-github",
        "colab_type": "text"
      },
      "source": [
        "<a href=\"https://colab.research.google.com/github/Manojl777/cloud-defence/blob/main/train_template.ipynb\" target=\"_parent\"><img src=\"https://colab.research.google.com/assets/colab-badge.svg\" alt=\"Open In Colab\"/></a>"
      ]
    },
    {
      "cell_type": "code",
      "execution_count": null,
      "metadata": {
        "id": "0Mdy7-TjSM7S"
      },
      "outputs": [],
      "source": [
        "# ==========================\n",
        "# 🔷 TRAIN_TEMPLATE.IPYNB\n",
        "# ==========================\n",
        "\n",
        "# ✅ Step 1: Clone the project repository\n",
        "!git clone https://github.com/your-username/your-repo-name.git\n",
        "%cd your-repo-name\n",
        "\n",
        "# ✅ Step 2: Install required libraries\n",
        "!pip install tensorflow pandas scikit-learn\n",
        "\n",
        "# ✅ Step 3: Import training function from main_intrusion.py\n",
        "from main_intrusion import train_model\n",
        "\n",
        "# ✅ Step 4: Define dataset URL and model save name\n",
        "dataset_url = 'PASTE_YOUR_DATASET_URL_HERE'  # 🔁 Example: 'https://.../dataset.csv'\n",
        "model_name = 'model_YOURNAME.h5'             # 🔁 Example: 'model_A.h5', 'model_B.h5'\n",
        "\n",
        "# ✅ Step 5: Train the model\n",
        "train_model(path=dataset_url, model_name=model_name)\n",
        "\n",
        "# ✅ Step 6 (Optional): Save trained model to Google Drive\n",
        "from google.colab import drive\n",
        "drive.mount('/content/drive')\n",
        "\n",
        "!cp models/{model_name} /content/drive/MyDrive/\n",
        "print(f\"✅ Model '{model_name}' saved to Google Drive!\")\n"
      ]
    }
  ]
}
