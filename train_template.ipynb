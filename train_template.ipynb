{
  "nbformat": 4,
  "nbformat_minor": 0,
  "metadata": {
    "colab": {
      "provenance": [],
      "authorship_tag": "ABX9TyPaKOt23rQ5BDHAUNT8wIKG",
      "include_colab_link": true
    },
    "kernelspec": {
      "name": "python3",
      "display_name": "Python 3"
    },
    "language_info": {
      "name": "python"
    }
  },
  "cells": [
    {
      "cell_type": "markdown",
      "metadata": {
        "id": "view-in-github",
        "colab_type": "text"
      },
      "source": [
        "<a href=\"https://colab.research.google.com/github/MyPro-jects/cloud-defence/blob/main/train_template.ipynb\" target=\"_parent\"><img src=\"https://colab.research.google.com/assets/colab-badge.svg\" alt=\"Open In Colab\"/></a>"
      ]
    },
    {
      "cell_type": "code",
      "execution_count": null,
      "metadata": {
        "id": "Y3dQ09DRIW1j"
      },
      "outputs": [],
      "source": [
        "# 🔷 TRAIN_TEMPLATE.IPYNB\n",
        "\n",
        "This notebook clones the project, installs dependencies, and trains the model.\n"
      ]
    },
    {
      "cell_type": "code",
      "source": [
        "!git clone https://github.com/your-username/your-repo-name.git\n",
        "%cd your-repo-name\n"
      ],
      "metadata": {
        "id": "x3CELiAkI2ie"
      },
      "execution_count": null,
      "outputs": []
    },
    {
      "cell_type": "code",
      "source": [
        "!pip install tensorflow pandas scikit-learn\n"
      ],
      "metadata": {
        "id": "ouP90keXJAoP"
      },
      "execution_count": null,
      "outputs": []
    },
    {
      "cell_type": "code",
      "source": [
        "from main_intrusion import train_model\n"
      ],
      "metadata": {
        "id": "1K-LtBuAJER1"
      },
      "execution_count": null,
      "outputs": []
    },
    {
      "cell_type": "code",
      "source": [
        "# 🔁 Update these two:\n",
        "dataset_url = 'PASTE_YOUR_DATASET_URL_HERE'   # e.g., 'https://.../dataset.csv'\n",
        "model_name  = 'model_YOURNAME.h5'             # e.g., 'model_A.h5'\n"
      ],
      "metadata": {
        "id": "gkdEhhLEJFfh"
      },
      "execution_count": null,
      "outputs": []
    },
    {
      "cell_type": "code",
      "source": [
        "train_model(path=dataset_url, model_name=model_name)\n"
      ],
      "metadata": {
        "id": "kcAudYpVJHTT"
      },
      "execution_count": null,
      "outputs": []
    },
    {
      "cell_type": "code",
      "source": [
        "## Optional: Save trained model to Google Drive\n"
      ],
      "metadata": {
        "id": "rWHy25lKJI3x"
      },
      "execution_count": null,
      "outputs": []
    },
    {
      "cell_type": "code",
      "source": [
        "from google.colab import drive\n",
        "drive.mount('/content/drive', force_remount=True)\n",
        "\n",
        "!mkdir -p /content/drive/MyDrive/models\n",
        "!cp models/{model_name} /content/drive/MyDrive/models/\n",
        "print(f\"✅ Model '{model_name}' saved to Google Drive!\")\n"
      ],
      "metadata": {
        "id": "AUulCyEXJMLF"
      },
      "execution_count": null,
      "outputs": []
    }
  ]
}