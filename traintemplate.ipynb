# ==========================
# 🔷 TRAIN_TEMPLATE.IPYNB
# ==========================

# ✅ Step 1: Clone the project repository
!git clone https://github.com/your-username/your-repo-name.git
%cd your-repo-name

# ✅ Step 2: Install required libraries
!pip install tensorflow pandas scikit-learn

# ✅ Step 3: Import training function from main_intrusion.py
from main_intrusion import train_model

# ✅ Step 4: Define dataset URL and model save name
dataset_url = 'PASTE_YOUR_DATASET_URL_HERE'  # 🔁 Example: 'https://.../dataset.csv'
model_name = 'model_YOURNAME.h5'             # 🔁 Example: 'model_A.h5', 'model_B.h5'

# ✅ Step 5: Train the model
train_model(path=dataset_url, model_name=model_name)

# ✅ Step 6 (Optional): Save trained model to Google Drive
from google.colab import drive
drive.mount('/content/drive')

!cp models/{model_name} /content/drive/MyDrive/
print(f"✅ Model '{model_name}' saved to Google Drive!")
